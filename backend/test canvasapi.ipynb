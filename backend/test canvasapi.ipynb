{
 "cells": [
  {
   "cell_type": "code",
   "execution_count": 9,
   "id": "256245ab",
   "metadata": {},
   "outputs": [],
   "source": [
    "from canvasapi import Canvas\n",
    "API_URL = \"https://byu.instructure.com\"\n",
    "API_KEY = \"7407~BGEyXTyuEE9ZkYPtUf9wGVNzYJHY6wUX8f97Yu3MNP2TuTDfnc6UNwXYZURZ37wx\""
   ]
  },
  {
   "cell_type": "code",
   "execution_count": 10,
   "id": "9c928ecf",
   "metadata": {},
   "outputs": [],
   "source": [
    "canvas = Canvas(API_URL, API_KEY)"
   ]
  },
  {
   "cell_type": "code",
   "execution_count": null,
   "id": "f53d8c56",
   "metadata": {},
   "outputs": [
    {
     "data": {
      "text/plain": [
       "[Course(_requester=<canvasapi.requester.Requester object at 0x10a771590>, id=21672, name=C S 111: Intro to Computer Science, account_id=75, uuid=qZAtXNAKZcc4cdokFUZfDOWtuxOu43DwXohoWr2C, start_at=2023-09-04T06:00:00Z, start_at_date=2023-09-04 06:00:00+00:00, grading_standard_id=10, is_public=False, created_at=2023-05-09T20:05:33Z, created_at_date=2023-05-09 20:05:33+00:00, course_code=C S 111 (Fall 23), default_view=syllabus, root_account_id=1, enrollment_term_id=264, license=private, grade_passback_setting=None, end_at=2023-12-22T07:00:00Z, end_at_date=2023-12-22 07:00:00+00:00, public_syllabus=False, public_syllabus_to_auth=False, storage_quota_mb=524, is_public_to_auth_users=False, homeroom_course=False, course_color=None, friendly_name=None, apply_assignment_group_weights=True, calendar={'ics': 'https://byu.instructure.com/feeds/calendars/course_qZAtXNAKZcc4cdokFUZfDOWtuxOu43DwXohoWr2C.ics'}, time_zone=America/Denver, blueprint=False, template=False, enrollments=[{'type': 'student', 'role': 'StudentEnrollment', 'role_id': 3, 'user_id': 118517, 'enrollment_state': 'active', 'limit_privileges_to_course_section': True}, {'type': 'student', 'role': 'StudentEnrollment', 'role_id': 3, 'user_id': 118517, 'enrollment_state': 'active', 'limit_privileges_to_course_section': True}], hide_final_grades=False, workflow_state=available, restrict_enrollments_to_course_dates=True),\n",
       " Course(_requester=<canvasapi.requester.Requester object at 0x10a771590>, id=22635, name=C S 235: Data Structures (W24), account_id=94, uuid=mzbT8xJn4mrSYjG6QHhp2mEuvYI1vQyvFUVXuFlZ, start_at=None, grading_standard_id=10, is_public=False, created_at=2023-07-27T08:55:33Z, created_at_date=2023-07-27 08:55:33+00:00, course_code=C S 235 (W24), default_view=modules, root_account_id=1, enrollment_term_id=265, license=private, grade_passback_setting=None, end_at=None, public_syllabus=False, public_syllabus_to_auth=False, storage_quota_mb=1048, storage_quota_mb_date=1048-01-01 00:00:00+00:00, is_public_to_auth_users=False, homeroom_course=False, course_color=None, friendly_name=None, apply_assignment_group_weights=True, calendar={'ics': 'https://byu.instructure.com/feeds/calendars/course_mzbT8xJn4mrSYjG6QHhp2mEuvYI1vQyvFUVXuFlZ.ics'}, time_zone=America/Denver, blueprint=False, template=False, enrollments=[{'type': 'student', 'role': 'StudentEnrollment', 'role_id': 3, 'user_id': 118517, 'enrollment_state': 'active', 'limit_privileges_to_course_section': True}], hide_final_grades=False, workflow_state=available, restrict_enrollments_to_course_dates=False),\n",
       " Course(_requester=<canvasapi.requester.Requester object at 0x10a771590>, id=30971, name=EduQuest - Test course for research purposes, account_id=75, uuid=r8olGL50kKjTYwUZdgL5rLxBLKFL4jrZuh1oZln9, start_at=None, grading_standard_id=None, is_public=False, created_at=2025-05-07T16:03:21Z, created_at_date=2025-05-07 16:03:21+00:00, course_code=Test, default_view=modules, root_account_id=1, enrollment_term_id=1, license=private, grade_passback_setting=None, end_at=None, public_syllabus=False, public_syllabus_to_auth=False, storage_quota_mb=524, is_public_to_auth_users=False, homeroom_course=False, course_color=None, friendly_name=None, apply_assignment_group_weights=False, calendar={'ics': 'https://byu.instructure.com/feeds/calendars/course_r8olGL50kKjTYwUZdgL5rLxBLKFL4jrZuh1oZln9.ics'}, time_zone=America/Denver, blueprint=False, template=False, sis_course_id=None, integration_id=None, enrollments=[{'type': 'teacher', 'role': 'TeacherEnrollment', 'role_id': 4, 'user_id': 118517, 'enrollment_state': 'active', 'limit_privileges_to_course_section': False}], hide_final_grades=False, workflow_state=unpublished, restrict_enrollments_to_course_dates=False),\n",
       " Course(_requester=<canvasapi.requester.Requester object at 0x10a771590>, id=25251, name=FIN 180-003: Finance Recruitment Prep, account_id=29, uuid=C65pLVy4nwU6ugmZ9nl0rPk8TAkISQwxxheYaqEj, start_at=2024-02-29T07:00:00Z, start_at_date=2024-02-29 07:00:00+00:00, grading_standard_id=34434, is_public=False, created_at=2024-01-05T18:04:18Z, created_at_date=2024-01-05 18:04:18+00:00, course_code=FIN 180-003, default_view=wiki, root_account_id=1, enrollment_term_id=265, license=private, grade_passback_setting=None, end_at=2024-04-17T06:00:00Z, end_at_date=2024-04-17 06:00:00+00:00, public_syllabus=False, public_syllabus_to_auth=False, storage_quota_mb=524, is_public_to_auth_users=False, homeroom_course=False, course_color=None, friendly_name=None, apply_assignment_group_weights=False, calendar={'ics': 'https://byu.instructure.com/feeds/calendars/course_C65pLVy4nwU6ugmZ9nl0rPk8TAkISQwxxheYaqEj.ics'}, time_zone=America/Denver, blueprint=False, template=False, enrollments=[{'type': 'student', 'role': 'StudentEnrollment', 'role_id': 3, 'user_id': 118517, 'enrollment_state': 'active', 'limit_privileges_to_course_section': True}], hide_final_grades=False, workflow_state=available, restrict_enrollments_to_course_dates=False),\n",
       " Course(_requester=<canvasapi.requester.Requester object at 0x10a771590>, id=23271, name=MATH 112 22-27: Calculus 1, account_id=74, uuid=1yAD59YyBmBpKIvtYNIskBHdb7hMaiAx4OhUkcY1, start_at=None, grading_standard_id=10, is_public=False, created_at=2023-08-18T04:03:45Z, created_at_date=2023-08-18 04:03:45+00:00, course_code=MATH 112 22-27, default_view=modules, root_account_id=1, enrollment_term_id=264, license=private, grade_passback_setting=None, end_at=2023-12-22T07:00:00Z, end_at_date=2023-12-22 07:00:00+00:00, public_syllabus=False, public_syllabus_to_auth=False, storage_quota_mb=524, is_public_to_auth_users=False, homeroom_course=False, course_color=None, friendly_name=None, apply_assignment_group_weights=True, calendar={'ics': 'https://byu.instructure.com/feeds/calendars/course_1yAD59YyBmBpKIvtYNIskBHdb7hMaiAx4OhUkcY1.ics'}, time_zone=America/Denver, blueprint=False, template=False, enrollments=[{'type': 'student', 'role': 'StudentEnrollment', 'role_id': 3, 'user_id': 118517, 'enrollment_state': 'active', 'limit_privileges_to_course_section': True}], hide_final_grades=False, workflow_state=available, restrict_enrollments_to_course_dates=True),\n",
       " Course(_requester=<canvasapi.requester.Requester object at 0x10a771590>, id=27789, name=MATH 213-010: Elementary Linear Algebra, account_id=74, uuid=h7UzOK5yK5uA2PBFVWHYUIxB6QegMdb0oWmkPf1r, start_at=None, grading_standard_id=10, is_public=False, created_at=2024-08-14T18:04:26Z, created_at_date=2024-08-14 18:04:26+00:00, course_code=MATH 213-010, default_view=modules, root_account_id=1, enrollment_term_id=270, license=private, grade_passback_setting=None, end_at=2024-12-21T00:00:00Z, end_at_date=2024-12-21 00:00:00+00:00, public_syllabus=False, public_syllabus_to_auth=False, storage_quota_mb=524, is_public_to_auth_users=False, homeroom_course=False, course_color=None, friendly_name=None, apply_assignment_group_weights=True, calendar={'ics': 'https://byu.instructure.com/feeds/calendars/course_h7UzOK5yK5uA2PBFVWHYUIxB6QegMdb0oWmkPf1r.ics'}, time_zone=America/Denver, blueprint=False, template=False, enrollments=[{'type': 'student', 'role': 'StudentEnrollment', 'role_id': 3, 'user_id': 118517, 'enrollment_state': 'active', 'limit_privileges_to_course_section': True}], hide_final_grades=False, workflow_state=available, restrict_enrollments_to_course_dates=False),\n",
       " Course(_requester=<canvasapi.requester.Requester object at 0x10a771590>, id=25859, name=MATH 215-001: Computational Linear Algebra, account_id=94, uuid=6eUQdMP5SwQMYt0sKS5Aa8RYshQ840ISrB9G4X9F, start_at=2022-03-30T14:55:31Z, start_at_date=2022-03-30 14:55:31+00:00, grading_standard_id=10, is_public=False, created_at=2024-03-16T07:14:31Z, created_at_date=2024-03-16 07:14:31+00:00, course_code=MATH 215-001, default_view=modules, root_account_id=1, enrollment_term_id=270, license=private, grade_passback_setting=None, end_at=None, public_syllabus=False, public_syllabus_to_auth=False, storage_quota_mb=1048, storage_quota_mb_date=1048-01-01 00:00:00+00:00, is_public_to_auth_users=False, homeroom_course=False, course_color=None, friendly_name=None, apply_assignment_group_weights=False, calendar={'ics': 'https://byu.instructure.com/feeds/calendars/course_6eUQdMP5SwQMYt0sKS5Aa8RYshQ840ISrB9G4X9F.ics'}, time_zone=America/Denver, blueprint=False, template=False, enrollments=[{'type': 'student', 'role': 'StudentEnrollment', 'role_id': 3, 'user_id': 118517, 'enrollment_state': 'active', 'limit_privileges_to_course_section': True}], hide_final_grades=False, workflow_state=available, course_format=on_campus, restrict_enrollments_to_course_dates=False),\n",
       " Course(_requester=<canvasapi.requester.Requester object at 0x10a771590>, id=28349, name=MATH 290-001: Fundamentals of Mathematics, account_id=74, uuid=23yPDDixPJNYUNJnktj77beZp7OtvbzAVyJLdHmK, start_at=None, grading_standard_id=47219, is_public=False, created_at=2024-09-26T18:44:36Z, created_at_date=2024-09-26 18:44:36+00:00, course_code=MATH 290-001, default_view=syllabus, root_account_id=1, enrollment_term_id=374, license=private, grade_passback_setting=None, end_at=None, public_syllabus=False, public_syllabus_to_auth=False, storage_quota_mb=524, is_public_to_auth_users=False, homeroom_course=False, course_color=None, friendly_name=None, apply_assignment_group_weights=True, calendar={'ics': 'https://byu.instructure.com/feeds/calendars/course_23yPDDixPJNYUNJnktj77beZp7OtvbzAVyJLdHmK.ics'}, time_zone=America/Denver, blueprint=False, template=False, enrollments=[{'type': 'student', 'role': 'StudentEnrollment', 'role_id': 3, 'user_id': 118517, 'enrollment_state': 'active', 'limit_privileges_to_course_section': True}], hide_final_grades=False, workflow_state=available, restrict_enrollments_to_course_dates=False),\n",
       " Course(_requester=<canvasapi.requester.Requester object at 0x10a771590>, id=27426, name=STDEV 109-013: Effective Study & Learning, account_id=94, uuid=udsrQqMcnQrzweIMV6aUwBxwowUt5hCItN3vM0lo, start_at=None, grading_standard_id=10, is_public=False, created_at=2024-08-02T01:13:23Z, created_at_date=2024-08-02 01:13:23+00:00, course_code=STDEV 109-013, default_view=modules, root_account_id=1, enrollment_term_id=374, license=private, grade_passback_setting=None, end_at=2025-05-17T06:00:00Z, end_at_date=2025-05-17 06:00:00+00:00, public_syllabus=False, public_syllabus_to_auth=False, storage_quota_mb=1048, storage_quota_mb_date=1048-01-01 00:00:00+00:00, is_public_to_auth_users=False, homeroom_course=False, course_color=None, friendly_name=None, apply_assignment_group_weights=True, calendar={'ics': 'https://byu.instructure.com/feeds/calendars/course_udsrQqMcnQrzweIMV6aUwBxwowUt5hCItN3vM0lo.ics'}, time_zone=America/Denver, blueprint=False, template=False, enrollments=[{'type': 'student', 'role': 'StudentEnrollment', 'role_id': 3, 'user_id': 118517, 'enrollment_state': 'active', 'limit_privileges_to_course_section': True}], hide_final_grades=False, workflow_state=available, restrict_enrollments_to_course_dates=True),\n",
       " Course(_requester=<canvasapi.requester.Requester object at 0x10a771590>, id=27434, name=SWELL 131-004: Golf, Beginning, account_id=94, uuid=P81FpRiKKhsmXbIHRNJP3iNgHQXvMXPnQGs5zG4D, start_at=None, grading_standard_id=46377, is_public=False, created_at=2024-08-02T01:17:43Z, created_at_date=2024-08-02 01:17:43+00:00, course_code=SWELL 131-004, default_view=modules, root_account_id=1, enrollment_term_id=374, license=private, grade_passback_setting=None, end_at=None, public_syllabus=False, public_syllabus_to_auth=False, storage_quota_mb=1048, storage_quota_mb_date=1048-01-01 00:00:00+00:00, is_public_to_auth_users=False, homeroom_course=False, course_color=None, friendly_name=None, apply_assignment_group_weights=True, calendar={'ics': 'https://byu.instructure.com/feeds/calendars/course_P81FpRiKKhsmXbIHRNJP3iNgHQXvMXPnQGs5zG4D.ics'}, time_zone=America/Denver, blueprint=False, template=False, enrollments=[{'type': 'student', 'role': 'StudentEnrollment', 'role_id': 3, 'user_id': 118517, 'enrollment_state': 'active', 'limit_privileges_to_course_section': True}], hide_final_grades=False, workflow_state=available, restrict_enrollments_to_course_dates=False)]"
      ]
     },
     "execution_count": 11,
     "metadata": {},
     "output_type": "execute_result"
    }
   ],
   "source": [
    "courses = canvas.get_courses()\n",
    "list(courses)\n",
    "course_names = [course.name for course in courses]\n",
    "course_ids = [course.id for course in courses]"
   ]
  },
  {
   "cell_type": "code",
   "execution_count": null,
   "id": "87886756",
   "metadata": {},
   "outputs": [],
   "source": []
  }
 ],
 "metadata": {
  "kernelspec": {
   "display_name": "Python 3",
   "language": "python",
   "name": "python3"
  },
  "language_info": {
   "codemirror_mode": {
    "name": "ipython",
    "version": 3
   },
   "file_extension": ".py",
   "mimetype": "text/x-python",
   "name": "python",
   "nbconvert_exporter": "python",
   "pygments_lexer": "ipython3",
   "version": "3.13.0"
  }
 },
 "nbformat": 4,
 "nbformat_minor": 5
}
